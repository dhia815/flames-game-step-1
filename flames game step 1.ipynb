{
 "cells": [
  {
   "cell_type": "code",
   "execution_count": 1,
   "id": "05b9729c",
   "metadata": {},
   "outputs": [
    {
     "name": "stdout",
     "output_type": "stream",
     "text": [
      "Name 1 : AJAY\n",
      "Name 2 : PRIYA\n",
      "['j', 'a'] ['p', 'r', 'i']\n"
     ]
    },
    {
     "data": {
      "text/plain": [
       "5"
      ]
     },
     "execution_count": 1,
     "metadata": {},
     "output_type": "execute_result"
    }
   ],
   "source": [
    "def remove_common_characters_between_2_names():\n",
    "\n",
    "    # Take the 2 names as lists:\n",
    "\n",
    "    name_1 = input(\"Name 1 : \") # Take the first name as str\n",
    "    name_2 = input(\"Name 2 : \") # Take the second name as str\n",
    "    name_1 = name_1.lower() # change uppercase letters into lowercase letters in the first name\n",
    "    name_2 = name_2.lower() # change uppercase letters into lowercase letters in the second name\n",
    "    name_1 = list(name_1) # change the first name from string into a list of characters\n",
    "    name_2 = list(name_2) # change the second name from string into a list of characters\n",
    "    \n",
    "    # remove common characters:\n",
    "\n",
    "    for i in name_1.copy(): # take each letter in the first name \n",
    "        for j in name_2: # take each letter in the second name\n",
    "            if i == j: # if there is two identical characters in the first name and the second one ...\n",
    "                name_1.remove(i) # remove this character from the first name\n",
    "                name_2.remove(i) # and also remove it from the second one\n",
    "                break # and then we have to pass to another character and do the same thing\n",
    "\n",
    "    print(name_1, name_2) # this line of code shows the remaining characters that haven't been deleted in each name \n",
    "    the_count_of_the_characters_that_are_left = len(name_1+ name_2) #  count the total number of remaining characters\n",
    "    return  the_count_of_the_characters_that_are_left\n",
    "\n",
    "\n",
    "remove_common_characters_between_2_names()"
   ]
  },
  {
   "cell_type": "code",
   "execution_count": null,
   "id": "210151b5",
   "metadata": {},
   "outputs": [],
   "source": []
  }
 ],
 "metadata": {
  "kernelspec": {
   "display_name": "Python 3",
   "language": "python",
   "name": "python3"
  },
  "language_info": {
   "codemirror_mode": {
    "name": "ipython",
    "version": 3
   },
   "file_extension": ".py",
   "mimetype": "text/x-python",
   "name": "python",
   "nbconvert_exporter": "python",
   "pygments_lexer": "ipython3",
   "version": "3.8.8"
  }
 },
 "nbformat": 4,
 "nbformat_minor": 5
}
